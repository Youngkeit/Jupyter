{
 "cells": [
  {
   "cell_type": "code",
   "execution_count": 4,
   "id": "c4bf5de2-54aa-4b6a-a7bd-b9b5d425b8e5",
   "metadata": {},
   "outputs": [],
   "source": [
    "import pandas as pd\n",
    "df = pd.read_csv(r\"C:\\Users\\Barbara Youngkeit\\Desktop\\SQL\\CSV\\wine.csv\")"
   ]
  },
  {
   "cell_type": "code",
   "execution_count": 6,
   "id": "03e28007-6f3f-46af-b2b5-4c9a3a695483",
   "metadata": {},
   "outputs": [
    {
     "data": {
      "text/html": [
       "<div>\n",
       "<style scoped>\n",
       "    .dataframe tbody tr th:only-of-type {\n",
       "        vertical-align: middle;\n",
       "    }\n",
       "\n",
       "    .dataframe tbody tr th {\n",
       "        vertical-align: top;\n",
       "    }\n",
       "\n",
       "    .dataframe thead th {\n",
       "        text-align: right;\n",
       "    }\n",
       "</style>\n",
       "<table border=\"1\" class=\"dataframe\">\n",
       "  <thead>\n",
       "    <tr style=\"text-align: right;\">\n",
       "      <th></th>\n",
       "      <th>country</th>\n",
       "      <th>description</th>\n",
       "      <th>designation</th>\n",
       "      <th>points</th>\n",
       "      <th>price</th>\n",
       "      <th>province</th>\n",
       "      <th>taster_name</th>\n",
       "      <th>taster_twitter_handle</th>\n",
       "      <th>title</th>\n",
       "      <th>variety</th>\n",
       "      <th>winery</th>\n",
       "    </tr>\n",
       "  </thead>\n",
       "  <tbody>\n",
       "    <tr>\n",
       "      <th>0</th>\n",
       "      <td>Italy</td>\n",
       "      <td>Aromas include tropical fruit, broom, brimston...</td>\n",
       "      <td>Vulkà Bianco</td>\n",
       "      <td>87</td>\n",
       "      <td>NaN</td>\n",
       "      <td>Sicily &amp; Sardinia</td>\n",
       "      <td>Kerin O’Keefe</td>\n",
       "      <td>@kerinokeefe</td>\n",
       "      <td>Nicosia 2013 Vulkà Bianco  (Etna)</td>\n",
       "      <td>White Blend</td>\n",
       "      <td>Nicosia</td>\n",
       "    </tr>\n",
       "  </tbody>\n",
       "</table>\n",
       "</div>"
      ],
      "text/plain": [
       "  country                                        description   designation  \\\n",
       "0   Italy  Aromas include tropical fruit, broom, brimston...  Vulkà Bianco   \n",
       "\n",
       "   points  price           province    taster_name taster_twitter_handle  \\\n",
       "0      87    NaN  Sicily & Sardinia  Kerin O’Keefe          @kerinokeefe   \n",
       "\n",
       "                               title      variety   winery  \n",
       "0  Nicosia 2013 Vulkà Bianco  (Etna)  White Blend  Nicosia  "
      ]
     },
     "execution_count": 6,
     "metadata": {},
     "output_type": "execute_result"
    }
   ],
   "source": [
    "df.head(1)"
   ]
  },
  {
   "cell_type": "code",
   "execution_count": 9,
   "id": "7e66080f-e6f0-4eab-a9d0-ea05818e2320",
   "metadata": {},
   "outputs": [
    {
     "name": "stdout",
     "output_type": "stream",
     "text": [
      "<class 'pandas.core.frame.DataFrame'>\n",
      "RangeIndex: 129971 entries, 0 to 129970\n",
      "Data columns (total 11 columns):\n",
      " #   Column                 Non-Null Count   Dtype  \n",
      "---  ------                 --------------   -----  \n",
      " 0   country                129908 non-null  object \n",
      " 1   description            129971 non-null  object \n",
      " 2   designation            92506 non-null   object \n",
      " 3   points                 129971 non-null  int64  \n",
      " 4   price                  120975 non-null  float64\n",
      " 5   province               129908 non-null  object \n",
      " 6   taster_name            103727 non-null  object \n",
      " 7   taster_twitter_handle  98758 non-null   object \n",
      " 8   title                  129971 non-null  object \n",
      " 9   variety                129970 non-null  object \n",
      " 10  winery                 129971 non-null  object \n",
      "dtypes: float64(1), int64(1), object(9)\n",
      "memory usage: 10.9+ MB\n"
     ]
    }
   ],
   "source": [
    "df.info()"
   ]
  },
  {
   "cell_type": "code",
   "execution_count": 10,
   "id": "6fc83bc6-2d8a-4469-9970-4ddaf699179a",
   "metadata": {},
   "outputs": [
    {
     "data": {
      "text/html": [
       "<div>\n",
       "<style scoped>\n",
       "    .dataframe tbody tr th:only-of-type {\n",
       "        vertical-align: middle;\n",
       "    }\n",
       "\n",
       "    .dataframe tbody tr th {\n",
       "        vertical-align: top;\n",
       "    }\n",
       "\n",
       "    .dataframe thead th {\n",
       "        text-align: right;\n",
       "    }\n",
       "</style>\n",
       "<table border=\"1\" class=\"dataframe\">\n",
       "  <thead>\n",
       "    <tr style=\"text-align: right;\">\n",
       "      <th></th>\n",
       "      <th>points</th>\n",
       "      <th>price</th>\n",
       "    </tr>\n",
       "  </thead>\n",
       "  <tbody>\n",
       "    <tr>\n",
       "      <th>count</th>\n",
       "      <td>129971.000000</td>\n",
       "      <td>120975.000000</td>\n",
       "    </tr>\n",
       "    <tr>\n",
       "      <th>mean</th>\n",
       "      <td>88.447138</td>\n",
       "      <td>35.363389</td>\n",
       "    </tr>\n",
       "    <tr>\n",
       "      <th>std</th>\n",
       "      <td>3.039730</td>\n",
       "      <td>41.022218</td>\n",
       "    </tr>\n",
       "    <tr>\n",
       "      <th>min</th>\n",
       "      <td>80.000000</td>\n",
       "      <td>4.000000</td>\n",
       "    </tr>\n",
       "    <tr>\n",
       "      <th>25%</th>\n",
       "      <td>86.000000</td>\n",
       "      <td>17.000000</td>\n",
       "    </tr>\n",
       "    <tr>\n",
       "      <th>50%</th>\n",
       "      <td>88.000000</td>\n",
       "      <td>25.000000</td>\n",
       "    </tr>\n",
       "    <tr>\n",
       "      <th>75%</th>\n",
       "      <td>91.000000</td>\n",
       "      <td>42.000000</td>\n",
       "    </tr>\n",
       "    <tr>\n",
       "      <th>max</th>\n",
       "      <td>100.000000</td>\n",
       "      <td>3300.000000</td>\n",
       "    </tr>\n",
       "  </tbody>\n",
       "</table>\n",
       "</div>"
      ],
      "text/plain": [
       "              points          price\n",
       "count  129971.000000  120975.000000\n",
       "mean       88.447138      35.363389\n",
       "std         3.039730      41.022218\n",
       "min        80.000000       4.000000\n",
       "25%        86.000000      17.000000\n",
       "50%        88.000000      25.000000\n",
       "75%        91.000000      42.000000\n",
       "max       100.000000    3300.000000"
      ]
     },
     "execution_count": 10,
     "metadata": {},
     "output_type": "execute_result"
    }
   ],
   "source": [
    "df.describe()"
   ]
  },
  {
   "cell_type": "code",
   "execution_count": 12,
   "id": "eff3b619-ce1b-42ed-9d7f-ebb7392633e6",
   "metadata": {},
   "outputs": [
    {
     "data": {
      "text/plain": [
       "Index(['country', 'description', 'designation', 'points', 'price', 'province',\n",
       "       'taster_name', 'taster_twitter_handle', 'title', 'variety', 'winery'],\n",
       "      dtype='object')"
      ]
     },
     "execution_count": 12,
     "metadata": {},
     "output_type": "execute_result"
    }
   ],
   "source": [
    "df.columns"
   ]
  },
  {
   "cell_type": "code",
   "execution_count": null,
   "id": "a60842d2-b043-42cb-869a-02548335b1bd",
   "metadata": {},
   "outputs": [],
   "source": [
    "# Question 1) Which country produces wine with the most points, on average?"
   ]
  },
  {
   "cell_type": "code",
   "execution_count": 18,
   "id": "bb2eb4fe-3201-44e5-882b-a179c4dfbefa",
   "metadata": {},
   "outputs": [
    {
     "data": {
      "text/plain": [
       "country\n",
       "England    91.581081\n",
       "Name: points, dtype: float64"
      ]
     },
     "execution_count": 18,
     "metadata": {},
     "output_type": "execute_result"
    }
   ],
   "source": [
    "df.groupby('country')['points'].mean().sort_values(ascending=False).head(1)"
   ]
  },
  {
   "cell_type": "code",
   "execution_count": null,
   "id": "92119b28-5216-4904-add0-ad3a8b0e6333",
   "metadata": {},
   "outputs": [],
   "source": [
    "# Question 2) Which taster gives the lowest scores (points), on average?"
   ]
  },
  {
   "cell_type": "code",
   "execution_count": 20,
   "id": "97f0455d-ef05-4fb0-bb03-01435c2f12e9",
   "metadata": {},
   "outputs": [
    {
     "data": {
      "text/plain": [
       "taster_name\n",
       "Alexander Peartree    85.855422\n",
       "Name: points, dtype: float64"
      ]
     },
     "execution_count": 20,
     "metadata": {},
     "output_type": "execute_result"
    }
   ],
   "source": [
    "df.groupby('taster_name')['points'].mean().sort_values().head(1)"
   ]
  },
  {
   "cell_type": "code",
   "execution_count": null,
   "id": "c0bfcdc5-b656-4e50-a0bc-de20867bb9ab",
   "metadata": {},
   "outputs": [],
   "source": [
    "# Question 3) Which variety of wine is the most expensive, on average?"
   ]
  },
  {
   "cell_type": "code",
   "execution_count": 22,
   "id": "585e9372-4267-4ad3-b7aa-1ae22d42707e",
   "metadata": {},
   "outputs": [
    {
     "data": {
      "text/plain": [
       "variety\n",
       "Ramisco    495.0\n",
       "Name: price, dtype: float64"
      ]
     },
     "execution_count": 22,
     "metadata": {},
     "output_type": "execute_result"
    }
   ],
   "source": [
    "df.groupby('variety')['price'].mean().sort_values(ascending=False).head(1)"
   ]
  },
  {
   "cell_type": "code",
   "execution_count": null,
   "id": "73e7253c-5fe6-4200-bf7f-54eccedf396e",
   "metadata": {},
   "outputs": [],
   "source": [
    "# Question 4) Which year of wines has the best score (points), on average?"
   ]
  },
  {
   "cell_type": "code",
   "execution_count": 24,
   "id": "2abae98e-d6ac-42fc-a297-8de70916affc",
   "metadata": {},
   "outputs": [
    {
     "name": "stdout",
     "output_type": "stream",
     "text": [
      "year\n",
      "1969.0    98.0\n",
      "Name: points, dtype: float64\n"
     ]
    }
   ],
   "source": [
    "df['year'] = df['title'].str.extract(r'(\\d{4})')\n",
    "df['year'] = pd.to_numeric(df['year'], errors='coerce')\n",
    "avg_points_by_year = df.groupby('year')['points'].mean()\n",
    "best_year = avg_points_by_year.sort_values(ascending=False).head(1)\n",
    "print(best_year)\n"
   ]
  },
  {
   "cell_type": "code",
   "execution_count": null,
   "id": "f158cfc4-6feb-47bf-868d-5fa2f12edbd2",
   "metadata": {},
   "outputs": [],
   "source": [
    "# Question 5) Do reviews with the word \"depth\" in them tend to get better than average or worse than average points?"
   ]
  },
  {
   "cell_type": "code",
   "execution_count": 25,
   "id": "f645a438-4190-4412-9407-c9cef196a98d",
   "metadata": {},
   "outputs": [
    {
     "name": "stdout",
     "output_type": "stream",
     "text": [
      "depth\n",
      "False    88.414493\n",
      "True     90.094220\n",
      "Name: points, dtype: float64\n"
     ]
    }
   ],
   "source": [
    "df['depth'] = df['description'].str.contains(r'\\bdepth\\b', case=False, na=False)\n",
    "avg_points_by_depth = df.groupby('depth')['points'].mean()\n",
    "print(avg_points_by_depth)"
   ]
  },
  {
   "cell_type": "code",
   "execution_count": null,
   "id": "eeeb834c-2e92-489e-b383-b8fcb17e4bab",
   "metadata": {},
   "outputs": [],
   "source": [
    "# Question 6) Do reviews with the word \"fruity\" in them tend to get better than average or worse than average points?"
   ]
  },
  {
   "cell_type": "code",
   "execution_count": 26,
   "id": "a7a35193-292b-46d9-be3b-7d0d56d49d18",
   "metadata": {},
   "outputs": [
    {
     "name": "stdout",
     "output_type": "stream",
     "text": [
      "fruity\n",
      "False    88.513237\n",
      "True     87.599596\n",
      "Name: points, dtype: float64\n"
     ]
    }
   ],
   "source": [
    "df['fruity'] = df['description'].str.contains(r'\\bfruity\\b', case=False, na=False)\n",
    "avg_points_by_fruity = df.groupby('fruity')['points'].mean()\n",
    "print(avg_points_by_fruity)\n"
   ]
  },
  {
   "cell_type": "code",
   "execution_count": null,
   "id": "6ab84b98-113a-4247-b3af-c4eb5fdb11d9",
   "metadata": {},
   "outputs": [],
   "source": [
    "# Question 7) Do reviews with the word \"herbal\" in them tend to get better than average or worse than average points?"
   ]
  },
  {
   "cell_type": "code",
   "execution_count": 27,
   "id": "7af756ab-9f74-43a5-a2f8-660f2045e368",
   "metadata": {},
   "outputs": [
    {
     "name": "stdout",
     "output_type": "stream",
     "text": [
      "herbal\n",
      "False    88.493171\n",
      "True     87.421354\n",
      "Name: points, dtype: float64\n"
     ]
    }
   ],
   "source": [
    "df['herbal'] = df['description'].str.contains(r'\\bherbal\\b', case=False, na=False)\n",
    "avg_points_by_herbal = df.groupby('herbal')['points'].mean()\n",
    "print(avg_points_by_herbal)\n"
   ]
  },
  {
   "cell_type": "code",
   "execution_count": null,
   "id": "068e3f92-465f-49cb-a466-a7fb66f2e4cf",
   "metadata": {},
   "outputs": [],
   "source": [
    "# Question 8) What is the relationship between number of characters and points?"
   ]
  },
  {
   "cell_type": "code",
   "execution_count": 28,
   "id": "bd5dc241-92c4-4890-b064-5a1b1726e91a",
   "metadata": {},
   "outputs": [
    {
     "name": "stdout",
     "output_type": "stream",
     "text": [
      "0.5577602558815872\n"
     ]
    }
   ],
   "source": [
    "df['review_length'] = df['description'].str.len()\n",
    "correlation = df['review_length'].corr(df['points'])\n",
    "print(correlation)\n"
   ]
  },
  {
   "cell_type": "code",
   "execution_count": null,
   "id": "78b5f4e9-c5c2-49af-8536-2370e0eb3a1a",
   "metadata": {},
   "outputs": [],
   "source": [
    "# Question 9) Which region in the province of Sicily & Sardinia produces the best wine, on average?"
   ]
  },
  {
   "cell_type": "code",
   "execution_count": 29,
   "id": "55c80a8c-f73a-4552-8f36-a802bebeb98b",
   "metadata": {},
   "outputs": [
    {
     "name": "stdout",
     "output_type": "stream",
     "text": [
      "region\n",
      "Alghero    91.5\n",
      "Name: points, dtype: float64\n"
     ]
    }
   ],
   "source": [
    "df['region'] = df['title'].str.extract(r'(Faro|Alghero|Moscato di Noto|Marsala)', expand=False)\n",
    "df_sicily_sardinia = df[df['province'] == 'Sicily & Sardinia']\n",
    "avg_points_by_region = df_sicily_sardinia.groupby('region')['points'].mean()\n",
    "best_region = avg_points_by_region.sort_values(ascending=False).head(1)\n",
    "print(best_region)\n"
   ]
  },
  {
   "cell_type": "code",
   "execution_count": 34,
   "id": "33e4eb6c-c342-4f29-954c-1b7a07924a59",
   "metadata": {},
   "outputs": [
    {
     "data": {
      "text/plain": [
       "'C:\\\\Users\\\\Barbara Youngkeit\\\\AppData\\\\Local\\\\Programs\\\\Python\\\\Python313\\\\Scripts'"
      ]
     },
     "execution_count": 34,
     "metadata": {},
     "output_type": "execute_result"
    }
   ],
   "source": [
    "pwd"
   ]
  }
 ],
 "metadata": {
  "kernelspec": {
   "display_name": "Python 3 (ipykernel)",
   "language": "python",
   "name": "python3"
  },
  "language_info": {
   "codemirror_mode": {
    "name": "ipython",
    "version": 3
   },
   "file_extension": ".py",
   "mimetype": "text/x-python",
   "name": "python",
   "nbconvert_exporter": "python",
   "pygments_lexer": "ipython3",
   "version": "3.13.1"
  }
 },
 "nbformat": 4,
 "nbformat_minor": 5
}
