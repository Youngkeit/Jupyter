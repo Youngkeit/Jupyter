{
 "cells": [
  {
   "cell_type": "code",
   "execution_count": 2,
   "id": "003800e1-aa8f-41c0-835c-338494503495",
   "metadata": {},
   "outputs": [],
   "source": [
    "import requests\n",
    "import pandas as pd\n",
    "from bs4 import BeautifulSoup"
   ]
  },
  {
   "cell_type": "code",
   "execution_count": 6,
   "id": "e244ef0e-f711-48a8-9ddf-77b84b85d56b",
   "metadata": {},
   "outputs": [],
   "source": [
    "response = requests.get('https://btech-data-analytics.github.io/bridgerland-technical-college/bookstore.html').text"
   ]
  },
  {
   "cell_type": "code",
   "execution_count": 7,
   "id": "ecff94f9-d6af-4f13-8105-666b23062764",
   "metadata": {},
   "outputs": [],
   "source": [
    "soup = BeautifulSoup(response, 'html.parser')"
   ]
  },
  {
   "cell_type": "code",
   "execution_count": 9,
   "id": "a1570944-5b07-4d1f-a61f-df5d0c05824b",
   "metadata": {},
   "outputs": [],
   "source": [
    "Author = []\n",
    "Pages = []\n",
    "Topic = []\n",
    "Price = []\n",
    "for book in soup.find('table').find_all('tr', class_ = \"book\"):\n",
    "    Author.append(book.find_all('td')[2].text)\n",
    "    Pages.append(book.find_all('td')[4].text)\n",
    "    Topic.append(book.find_all('td')[5].text)\n",
    "    Price.append(book.find_all('td')[6].text)"
   ]
  },
  {
   "cell_type": "code",
   "execution_count": 10,
   "id": "1c9f6906-25fd-450f-888e-587ef012017e",
   "metadata": {},
   "outputs": [],
   "source": [
    "df = pd.DataFrame({\n",
    "    \"Author\" : Author,\n",
    "    \"Pages\" : Pages,\n",
    "    \"Topic\"  :Topic,\n",
    "    \"Price\" : Price})"
   ]
  },
  {
   "cell_type": "code",
   "execution_count": 29,
   "id": "e6750cdd-eae4-4809-aec6-1dbaf2e32c2d",
   "metadata": {},
   "outputs": [],
   "source": [
    "df['Price'].replace({r'\\$': ''}, regex=True, inplace=True)\n",
    "df['Price'] = df['Price'].astype(float)"
   ]
  },
  {
   "cell_type": "code",
   "execution_count": 22,
   "id": "34d357de-e807-4e1c-a023-2ce043b000e6",
   "metadata": {},
   "outputs": [],
   "source": [
    "df['Pages'] = df['Pages'].astype(int)"
   ]
  },
  {
   "cell_type": "code",
   "execution_count": 30,
   "id": "57c82736-9074-498e-a30a-5018386e5ef2",
   "metadata": {},
   "outputs": [
    {
     "name": "stdout",
     "output_type": "stream",
     "text": [
      "<class 'pandas.core.frame.DataFrame'>\n",
      "RangeIndex: 15 entries, 0 to 14\n",
      "Data columns (total 4 columns):\n",
      " #   Column  Non-Null Count  Dtype  \n",
      "---  ------  --------------  -----  \n",
      " 0   Author  15 non-null     object \n",
      " 1   Pages   15 non-null     int64  \n",
      " 2   Topic   15 non-null     object \n",
      " 3   Price   15 non-null     float64\n",
      "dtypes: float64(1), int64(1), object(2)\n",
      "memory usage: 612.0+ bytes\n"
     ]
    }
   ],
   "source": [
    "df.info()"
   ]
  },
  {
   "cell_type": "code",
   "execution_count": null,
   "id": "38184e47-909d-4a8d-a361-66d19336a28c",
   "metadata": {},
   "outputs": [],
   "source": [
    "# Question 1) Which author has the most books listed at Bob's Bookstore?"
   ]
  },
  {
   "cell_type": "code",
   "execution_count": 36,
   "id": "f2b6936c-7daf-4a86-a4c5-228cffb3e39d",
   "metadata": {},
   "outputs": [
    {
     "data": {
      "text/plain": [
       "Author\n",
       "Penelope Wainwright    4\n",
       "Jasper Sterling        2\n",
       "Benjamin Barkley       2\n",
       "Maximilian Thorne      1\n",
       "Celeste Nightshade     1\n",
       "Isadora Harrington     1\n",
       "Seraphina Montague     1\n",
       "Sophie Shepherd        1\n",
       "Oliver Obedience       1\n",
       "Ruby Ruffington        1\n",
       "Name: count, dtype: int64"
      ]
     },
     "execution_count": 36,
     "metadata": {},
     "output_type": "execute_result"
    }
   ],
   "source": [
    "df['Author'].value_counts()"
   ]
  },
  {
   "cell_type": "code",
   "execution_count": null,
   "id": "3121ebee-12c4-49b3-9a9a-3d822b370449",
   "metadata": {},
   "outputs": [],
   "source": [
    "# Question 2) Which is the most popular topic among books at Bob's Bookstore (which topic occurs most frequently)?"
   ]
  },
  {
   "cell_type": "code",
   "execution_count": 37,
   "id": "a2db10c0-780b-41c7-808e-f7b5d09b9793",
   "metadata": {},
   "outputs": [
    {
     "data": {
      "text/plain": [
       "Topic\n",
       "Cats    10\n",
       "Dogs     5\n",
       "Name: count, dtype: int64"
      ]
     },
     "execution_count": 37,
     "metadata": {},
     "output_type": "execute_result"
    }
   ],
   "source": [
    "df['Topic'].value_counts()"
   ]
  },
  {
   "cell_type": "code",
   "execution_count": null,
   "id": "2ce035fd-730b-4137-825b-fe4aabd9d702",
   "metadata": {},
   "outputs": [],
   "source": [
    "# Question 3) Which topic of books is the most expensive, on average?"
   ]
  },
  {
   "cell_type": "code",
   "execution_count": 40,
   "id": "56b7384a-2953-4990-a356-64298d13be95",
   "metadata": {},
   "outputs": [
    {
     "data": {
      "text/plain": [
       "Topic\n",
       "Cats    17.79\n",
       "Dogs    26.59\n",
       "Name: Price, dtype: float64"
      ]
     },
     "execution_count": 40,
     "metadata": {},
     "output_type": "execute_result"
    }
   ],
   "source": [
    "df.groupby('Topic')['Price'].mean()"
   ]
  },
  {
   "cell_type": "code",
   "execution_count": null,
   "id": "17ffac21-f670-41cc-80bd-3c1fcc667d3c",
   "metadata": {},
   "outputs": [],
   "source": [
    "# Question 4) Which topic of book has the most pages, on average?"
   ]
  },
  {
   "cell_type": "code",
   "execution_count": 42,
   "id": "8225cc29-d13d-42eb-aa1b-73ab5db20fa2",
   "metadata": {},
   "outputs": [
    {
     "data": {
      "text/plain": [
       "Topic\n",
       "Cats    238.4\n",
       "Dogs    256.0\n",
       "Name: Pages, dtype: float64"
      ]
     },
     "execution_count": 42,
     "metadata": {},
     "output_type": "execute_result"
    }
   ],
   "source": [
    "df.groupby('Topic')['Pages'].mean()"
   ]
  }
 ],
 "metadata": {
  "kernelspec": {
   "display_name": "Python 3 (ipykernel)",
   "language": "python",
   "name": "python3"
  },
  "language_info": {
   "codemirror_mode": {
    "name": "ipython",
    "version": 3
   },
   "file_extension": ".py",
   "mimetype": "text/x-python",
   "name": "python",
   "nbconvert_exporter": "python",
   "pygments_lexer": "ipython3",
   "version": "3.13.1"
  }
 },
 "nbformat": 4,
 "nbformat_minor": 5
}
