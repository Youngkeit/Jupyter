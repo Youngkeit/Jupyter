{
 "cells": [
  {
   "cell_type": "code",
   "execution_count": 11,
   "id": "ea8d791c-c59e-4912-a09b-6c3d61441c3e",
   "metadata": {},
   "outputs": [],
   "source": [
    "import requests\n",
    "import pandas as pd\n",
    "from bs4 import BeautifulSoup"
   ]
  },
  {
   "cell_type": "code",
   "execution_count": 14,
   "id": "873212f1-3991-4485-8fde-b2481560552a",
   "metadata": {},
   "outputs": [],
   "source": [
    "response = requests.get('https://btech-data-analytics.github.io/bridgerland-technical-college/employees_3.html').text"
   ]
  },
  {
   "cell_type": "code",
   "execution_count": 15,
   "id": "ee5be1ac-33c2-49a6-9756-58845a7e059f",
   "metadata": {},
   "outputs": [],
   "source": [
    "soup = BeautifulSoup(response, 'html.parser')"
   ]
  },
  {
   "cell_type": "code",
   "execution_count": 36,
   "id": "6d8d6345-f883-4a7f-931f-937ff39b093f",
   "metadata": {},
   "outputs": [],
   "source": [
    "name = []\n",
    "id = []\n",
    "age = []\n",
    "\n",
    "for employee in soup.find('table').find_all('tr', class_ = \"employee\"):\n",
    "    id.append(employee.find_all('td')[0].text)\n",
    "    name.append(employee.find_all('td')[1].text)\n",
    "    age.append(employee.find_all('td')[2].text)"
   ]
  },
  {
   "cell_type": "code",
   "execution_count": 37,
   "id": "a256cdf1-4462-4e64-9dc8-5a668ec24524",
   "metadata": {},
   "outputs": [],
   "source": [
    "df = pd.DataFrame({\n",
    "    \"id\" : id,\n",
    "    \"name\" : name,\n",
    "    \"age\"  :age})"
   ]
  },
  {
   "cell_type": "code",
   "execution_count": 40,
   "id": "ba9b6e8c-5564-43c2-8b1e-23f03dcd390e",
   "metadata": {},
   "outputs": [],
   "source": [
    "df['age'] = df['age'].astype(int)"
   ]
  },
  {
   "cell_type": "code",
   "execution_count": 43,
   "id": "ee2a74d3-1960-4ebd-aa97-c778e20afa94",
   "metadata": {},
   "outputs": [
    {
     "data": {
      "text/plain": [
       "np.float64(29.875)"
      ]
     },
     "execution_count": 43,
     "metadata": {},
     "output_type": "execute_result"
    }
   ],
   "source": [
    "df['age'].mean()"
   ]
  },
  {
   "cell_type": "code",
   "execution_count": 45,
   "id": "0788de92-e296-4e53-9086-9778a90a6b4e",
   "metadata": {},
   "outputs": [
    {
     "data": {
      "text/plain": [
       "np.float64(3.56)"
      ]
     },
     "execution_count": 45,
     "metadata": {},
     "output_type": "execute_result"
    }
   ],
   "source": [
    "round(df['age'].std(), 2)"
   ]
  }
 ],
 "metadata": {
  "kernelspec": {
   "display_name": "Python 3 (ipykernel)",
   "language": "python",
   "name": "python3"
  },
  "language_info": {
   "codemirror_mode": {
    "name": "ipython",
    "version": 3
   },
   "file_extension": ".py",
   "mimetype": "text/x-python",
   "name": "python",
   "nbconvert_exporter": "python",
   "pygments_lexer": "ipython3",
   "version": "3.13.1"
  }
 },
 "nbformat": 4,
 "nbformat_minor": 5
}
